{
 "cells": [
  {
   "cell_type": "code",
   "execution_count": 5,
   "metadata": {},
   "outputs": [
    {
     "name": "stdout",
     "output_type": "stream",
     "text": [
      "a\n",
      "Requirement already satisfied: numpy in c:\\users\\nerea\\appdata\\local\\packages\\pythonsoftwarefoundation.python.3.11_qbz5n2kfra8p0\\localcache\\local-packages\\python311\\site-packages (1.24.2)\n",
      "Note: you may need to restart the kernel to use updated packages.\n"
     ]
    },
    {
     "name": "stderr",
     "output_type": "stream",
     "text": [
      "\n",
      "[notice] A new release of pip available: 22.3.1 -> 23.1\n",
      "[notice] To update, run: C:\\Users\\Nerea\\AppData\\Local\\Microsoft\\WindowsApps\\PythonSoftwareFoundation.Python.3.11_qbz5n2kfra8p0\\python.exe -m pip install --upgrade pip\n"
     ]
    }
   ],
   "source": [
    "print('a')\n",
    "\n",
    "import numpy as np"
   ]
  },
  {
   "cell_type": "code",
   "execution_count": 6,
   "metadata": {},
   "outputs": [
    {
     "name": "stdout",
     "output_type": "stream",
     "text": [
      "[[[0.77952489 0.58060923 0.34412215 0.70022648 0.24178179]\n",
      "  [0.62752668 0.72089667 0.65642636 0.15873692 0.03346094]\n",
      "  [0.92726869 0.63154862 0.22355195 0.25572783 0.09607069]]\n",
      "\n",
      " [[0.57618216 0.72698543 0.32182847 0.32340117 0.64162911]\n",
      "  [0.75563043 0.6745817  0.21621912 0.61208631 0.31898478]\n",
      "  [0.31180295 0.2132075  0.37186012 0.46786396 0.23877848]]]\n"
     ]
    }
   ],
   "source": [
    "a = np.random.rand(2, 3, 5)\n",
    "print(a)"
   ]
  },
  {
   "cell_type": "code",
   "execution_count": 7,
   "metadata": {},
   "outputs": [
    {
     "name": "stdout",
     "output_type": "stream",
     "text": [
      "[[[1. 1. 1.]\n",
      "  [1. 1. 1.]]\n",
      "\n",
      " [[1. 1. 1.]\n",
      "  [1. 1. 1.]]\n",
      "\n",
      " [[1. 1. 1.]\n",
      "  [1. 1. 1.]]\n",
      "\n",
      " [[1. 1. 1.]\n",
      "  [1. 1. 1.]]\n",
      "\n",
      " [[1. 1. 1.]\n",
      "  [1. 1. 1.]]]\n"
     ]
    }
   ],
   "source": [
    "b = np.ones((5, 2, 3))\n",
    "print(b)"
   ]
  },
  {
   "cell_type": "code",
   "execution_count": 8,
   "metadata": {},
   "outputs": [
    {
     "data": {
      "text/plain": [
       "'El tamaño de b es 30'"
      ]
     },
     "execution_count": 8,
     "metadata": {},
     "output_type": "execute_result"
    }
   ],
   "source": [
    "f\"El tamaño de a es {a.size}\"\n",
    "f\"El tamaño de b es {b.size}\"\n"
   ]
  },
  {
   "cell_type": "code",
   "execution_count": 9,
   "metadata": {},
   "outputs": [
    {
     "ename": "ValueError",
     "evalue": "operands could not be broadcast together with shapes (2,3,5) (5,2,3) ",
     "output_type": "error",
     "traceback": [
      "\u001b[1;31m---------------------------------------------------------------------------\u001b[0m",
      "\u001b[1;31mValueError\u001b[0m                                Traceback (most recent call last)",
      "Cell \u001b[1;32mIn[9], line 1\u001b[0m\n\u001b[1;32m----> 1\u001b[0m a \u001b[39m+\u001b[39;49m b\n",
      "\u001b[1;31mValueError\u001b[0m: operands could not be broadcast together with shapes (2,3,5) (5,2,3) "
     ]
    }
   ],
   "source": [
    "a + b"
   ]
  },
  {
   "cell_type": "code",
   "execution_count": null,
   "metadata": {},
   "outputs": [
    {
     "name": "stdout",
     "output_type": "stream",
     "text": [
      "[[[1. 1. 1. 1. 1.]\n",
      "  [1. 1. 1. 1. 1.]\n",
      "  [1. 1. 1. 1. 1.]]\n",
      "\n",
      " [[1. 1. 1. 1. 1.]\n",
      "  [1. 1. 1. 1. 1.]\n",
      "  [1. 1. 1. 1. 1.]]]\n"
     ]
    }
   ],
   "source": [
    "c = b.transpose(1, 0, 2)\n",
    "print(c)"
   ]
  },
  {
   "cell_type": "code",
   "execution_count": null,
   "metadata": {},
   "outputs": [
    {
     "name": "stdout",
     "output_type": "stream",
     "text": [
      "[[[1.18548902 1.71199764 1.21297731 1.72751298 1.29806674]\n",
      "  [1.91255457 1.83044507 1.47278959 1.28779218 1.56109244]\n",
      "  [1.61669768 1.59655864 1.04630734 1.80323008 1.85823365]]\n",
      "\n",
      " [[1.45949199 1.70675404 1.64536788 1.25415925 1.99799471]\n",
      "  [1.38576315 1.40385639 1.47618234 1.04619196 1.85981546]\n",
      "  [1.54924605 1.05881509 1.19439113 1.69699461 1.69749644]]]\n"
     ]
    }
   ],
   "source": [
    "d = a + c\n",
    "print(d)"
   ]
  },
  {
   "cell_type": "code",
   "execution_count": null,
   "metadata": {},
   "outputs": [
    {
     "data": {
      "text/plain": [
       "array([[[0.18548902, 0.71199764, 0.21297731, 0.72751298, 0.29806674],\n",
       "        [0.91255457, 0.83044507, 0.47278959, 0.28779218, 0.56109244],\n",
       "        [0.61669768, 0.59655864, 0.04630734, 0.80323008, 0.85823365]],\n",
       "\n",
       "       [[0.45949199, 0.70675404, 0.64536788, 0.25415925, 0.99799471],\n",
       "        [0.38576315, 0.40385639, 0.47618234, 0.04619196, 0.85981546],\n",
       "        [0.54924605, 0.05881509, 0.19439113, 0.69699461, 0.69749644]]])"
      ]
     },
     "execution_count": 33,
     "metadata": {},
     "output_type": "execute_result"
    }
   ],
   "source": [
    "a"
   ]
  },
  {
   "cell_type": "code",
   "execution_count": null,
   "metadata": {},
   "outputs": [
    {
     "data": {
      "text/plain": [
       "array([[[0.18548902, 0.71199764, 0.21297731, 0.72751298, 0.29806674],\n",
       "        [0.91255457, 0.83044507, 0.47278959, 0.28779218, 0.56109244],\n",
       "        [0.61669768, 0.59655864, 0.04630734, 0.80323008, 0.85823365]],\n",
       "\n",
       "       [[0.45949199, 0.70675404, 0.64536788, 0.25415925, 0.99799471],\n",
       "        [0.38576315, 0.40385639, 0.47618234, 0.04619196, 0.85981546],\n",
       "        [0.54924605, 0.05881509, 0.19439113, 0.69699461, 0.69749644]]])"
      ]
     },
     "execution_count": 34,
     "metadata": {},
     "output_type": "execute_result"
    }
   ],
   "source": [
    "e = a*c\n",
    "e"
   ]
  },
  {
   "cell_type": "code",
   "execution_count": null,
   "metadata": {},
   "outputs": [
    {
     "data": {
      "text/plain": [
       "array([[[1.18548902, 1.71199764, 1.21297731, 1.72751298, 1.29806674],\n",
       "        [1.91255457, 1.83044507, 1.47278959, 1.28779218, 1.56109244],\n",
       "        [1.61669768, 1.59655864, 1.04630734, 1.80323008, 1.85823365]],\n",
       "\n",
       "       [[1.45949199, 1.70675404, 1.64536788, 1.25415925, 1.99799471],\n",
       "        [1.38576315, 1.40385639, 1.47618234, 1.04619196, 1.85981546],\n",
       "        [1.54924605, 1.05881509, 1.19439113, 1.69699461, 1.69749644]]])"
      ]
     },
     "execution_count": 56,
     "metadata": {},
     "output_type": "execute_result"
    }
   ],
   "source": [
    "d"
   ]
  },
  {
   "cell_type": "code",
   "execution_count": null,
   "metadata": {},
   "outputs": [
    {
     "data": {
      "text/plain": [
       "array([[[1., 1., 1., 1., 1.],\n",
       "        [1., 1., 1., 1., 1.],\n",
       "        [1., 1., 1., 1., 1.]],\n",
       "\n",
       "       [[1., 1., 1., 1., 1.],\n",
       "        [1., 1., 1., 1., 1.],\n",
       "        [1., 1., 1., 1., 1.]]])"
      ]
     },
     "execution_count": 48,
     "metadata": {},
     "output_type": "execute_result"
    }
   ],
   "source": [
    "f = np.empty((2, 3, 5))\n",
    "f"
   ]
  },
  {
   "cell_type": "code",
   "execution_count": null,
   "metadata": {},
   "outputs": [],
   "source": [
    "d_max = d.max()\n",
    "d_min = d.min()\n",
    "d_mean = d.mean()"
   ]
  },
  {
   "cell_type": "code",
   "execution_count": null,
   "metadata": {},
   "outputs": [
    {
     "name": "stdout",
     "output_type": "stream",
     "text": [
      "[[[ 25.  75.  25.  75.  25.]\n",
      "  [ 75.  75.  25.  25.  75.]\n",
      "  [ 75.  75.  25.  75.  75.]]\n",
      "\n",
      " [[ 25.  75.  75.  25. 100.]\n",
      "  [ 25.  25.  25.   0.  75.]\n",
      "  [ 75.  25.  25.  75.  75.]]]\n",
      "[[[1.18548902 1.71199764 1.21297731 1.72751298 1.29806674]\n",
      "  [1.91255457 1.83044507 1.47278959 1.28779218 1.56109244]\n",
      "  [1.61669768 1.59655864 1.04630734 1.80323008 1.85823365]]\n",
      "\n",
      " [[1.45949199 1.70675404 1.64536788 1.25415925 1.99799471]\n",
      "  [1.38576315 1.40385639 1.47618234 1.04619196 1.85981546]\n",
      "  [1.54924605 1.05881509 1.19439113 1.69699461 1.69749644]]]\n"
     ]
    }
   ],
   "source": [
    "for l in range(d.shape[0]):\n",
    "    for c in range(d.shape[1]):\n",
    "        for dim in range(d.shape[2]):\n",
    "            if d[l][c][dim] == d_max:\n",
    "                f[l][c][dim] = 100\n",
    "            elif d[l][c][dim] > d_mean and d[l][c][dim] < d_max:\n",
    "                f[l][c][dim] = 75\n",
    "            elif d[l][c][dim] == d_mean:\n",
    "                f[l][c][dim] = 50\n",
    "            elif d[l][c][dim] == d_min:\n",
    "                f[l][c][dim] = 0\n",
    "            else:\n",
    "                f[l][c][dim] = 25\n",
    "                \n",
    "\n",
    "print(f)\n",
    "print(d)\n",
    "\n"
   ]
  },
  {
   "cell_type": "code",
   "execution_count": null,
   "metadata": {},
   "outputs": [
    {
     "name": "stdout",
     "output_type": "stream",
     "text": [
      "25.0\n"
     ]
    },
    {
     "data": {
      "text/plain": [
       "str"
      ]
     },
     "execution_count": 59,
     "metadata": {},
     "output_type": "execute_result"
    }
   ],
   "source": [
    "a = str(f[1][2][2])\n",
    "print(a)\n",
    "type(a)"
   ]
  },
  {
   "cell_type": "code",
   "execution_count": null,
   "metadata": {},
   "outputs": [
    {
     "name": "stdout",
     "output_type": "stream",
     "text": [
      "[[['D' 'B' 'D' 'B' 'D']\n",
      "  ['B' 'B' 'D' 'D' 'B']\n",
      "  ['B' 'B' 'D' 'B' 'B']]\n",
      "\n",
      " [['D' 'B' 'B' 'D' 'E']\n",
      "  ['D' 'D' 'D' 'A' 'B']\n",
      "  ['B' 'D' 'D' 'B' 'B']]]\n"
     ]
    }
   ],
   "source": [
    "g = d.astype(str)\n",
    "\n",
    "g[(d==d_max)] = \"E\"\n",
    "g[(d>d_min) & (d<d_mean)] = \"D\"\n",
    "g[(d==d_mean)] = \"C\"\n",
    "g[(d>d_mean) & (d<d_max)] = \"B\"\n",
    "g[(d==d_min)] = \"A\"\n",
    "\n",
    "print(g)"
   ]
  },
  {
   "cell_type": "code",
   "execution_count": null,
   "metadata": {},
   "outputs": [
    {
     "ename": "NameError",
     "evalue": "name 'd' is not defined",
     "output_type": "error",
     "traceback": [
      "\u001b[1;31m---------------------------------------------------------------------------\u001b[0m",
      "\u001b[1;31mNameError\u001b[0m                                 Traceback (most recent call last)",
      "Cell \u001b[1;32mIn[1], line 1\u001b[0m\n\u001b[1;32m----> 1\u001b[0m g \u001b[39m=\u001b[39m d\u001b[39m.\u001b[39mastype(\u001b[39mstr\u001b[39m)\n\u001b[0;32m      3\u001b[0m g[(d\u001b[39m==\u001b[39md_max)] \u001b[39m=\u001b[39m \u001b[39m\"\u001b[39m\u001b[39mE\u001b[39m\u001b[39m\"\u001b[39m\n\u001b[0;32m      4\u001b[0m g[(d\u001b[39m>\u001b[39md_min) \u001b[39m&\u001b[39m (d\u001b[39m<\u001b[39md_mean)] \u001b[39m=\u001b[39m \u001b[39m\"\u001b[39m\u001b[39mD\u001b[39m\u001b[39m\"\u001b[39m\n",
      "\u001b[1;31mNameError\u001b[0m: name 'd' is not defined"
     ]
    }
   ],
   "source": [
    "g = d.astype(str)\n",
    "\n",
    "g[(d==d_max)] = \"E\"\n",
    "g[(d>d_min) & (d<d_mean)] = \"D\"\n",
    "g[(d==d_mean)] = \"C\"\n",
    "g[(d>d_mean) & (d<d_max)] = \"B\"\n",
    "g[(d==d_min)] = \"A\"\n",
    "\n",
    "print(g)"
   ]
  },
  {
   "cell_type": "code",
   "execution_count": null,
   "metadata": {},
   "outputs": [],
   "source": []
  }
 ],
 "metadata": {
  "kernelspec": {
   "display_name": "base",
   "language": "python",
   "name": "python3"
  },
  "language_info": {
   "codemirror_mode": {
    "name": "ipython",
    "version": 3
   },
   "file_extension": ".py",
   "mimetype": "text/x-python",
   "name": "python",
   "nbconvert_exporter": "python",
   "pygments_lexer": "ipython3",
   "version": "3.11.3"
  },
  "orig_nbformat": 4
 },
 "nbformat": 4,
 "nbformat_minor": 2
}
